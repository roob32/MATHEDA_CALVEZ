{
 "cells": [
  {
   "cell_type": "markdown",
   "metadata": {},
   "source": [
    "# Jaguar and Panther Performance Analysis <p style=\"border:6px solid #ffd700\"></p>"
   ]
  },
  {
   "cell_type": "markdown",
   "metadata": {},
   "source": [
    "Name: <b>Robb Ryan P. Calvez</b> <br>\n",
    "Course: <b>CPE2A</b>"
   ]
  },
  {
   "cell_type": "markdown",
   "metadata": {},
   "source": [
    "Good day Ms. Lovelace, \n",
    "    \n",
    "Attached herewith is my analysis of the performance of your equipments namely, the Jaguar and Panther machines. Also included is my step-by-step process in calculating the machine's performance with respect to the datasheet you have provided. Critical details are also discussed within the report. \n",
    "\n",
    "Best regards,\n",
    "Robb\n",
    "\n",
    "\n",
    "\n"
   ]
  },
  {
   "cell_type": "markdown",
   "metadata": {},
   "source": [
    "## Creation of DataFrame"
   ]
  },
  {
   "cell_type": "markdown",
   "metadata": {},
   "source": [
    "import <b>pandas</b>, <b>numpy</b>, and <b>matplotlib.pyplot</b>"
   ]
  },
  {
   "cell_type": "code",
   "execution_count": 1,
   "metadata": {},
   "outputs": [],
   "source": [
    "import pandas as pd\n",
    "import numpy as np\n",
    "import matplotlib.pyplot as mpl"
   ]
  },
  {
   "cell_type": "markdown",
   "metadata": {},
   "source": [
    "Setup and confirm the <b>DataFrame</b> for Jaguar and Panther Data "
   ]
  },
  {
   "cell_type": "code",
   "execution_count": 2,
   "metadata": {},
   "outputs": [
    {
     "data": {
      "text/html": [
       "<div>\n",
       "<style scoped>\n",
       "    .dataframe tbody tr th:only-of-type {\n",
       "        vertical-align: middle;\n",
       "    }\n",
       "\n",
       "    .dataframe tbody tr th {\n",
       "        vertical-align: top;\n",
       "    }\n",
       "\n",
       "    .dataframe thead th {\n",
       "        text-align: right;\n",
       "    }\n",
       "</style>\n",
       "<table border=\"1\" class=\"dataframe\">\n",
       "  <thead>\n",
       "    <tr style=\"text-align: right;\">\n",
       "      <th></th>\n",
       "      <th>Lot_No</th>\n",
       "      <th>Jaguar</th>\n",
       "      <th>Panther</th>\n",
       "    </tr>\n",
       "  </thead>\n",
       "  <tbody>\n",
       "    <tr>\n",
       "      <th>0</th>\n",
       "      <td>1</td>\n",
       "      <td>997</td>\n",
       "      <td>1035</td>\n",
       "    </tr>\n",
       "    <tr>\n",
       "      <th>1</th>\n",
       "      <td>2</td>\n",
       "      <td>1153</td>\n",
       "      <td>975</td>\n",
       "    </tr>\n",
       "    <tr>\n",
       "      <th>2</th>\n",
       "      <td>3</td>\n",
       "      <td>920</td>\n",
       "      <td>982</td>\n",
       "    </tr>\n",
       "    <tr>\n",
       "      <th>3</th>\n",
       "      <td>4</td>\n",
       "      <td>1074</td>\n",
       "      <td>1038</td>\n",
       "    </tr>\n",
       "    <tr>\n",
       "      <th>4</th>\n",
       "      <td>5</td>\n",
       "      <td>1013</td>\n",
       "      <td>891</td>\n",
       "    </tr>\n",
       "    <tr>\n",
       "      <th>5</th>\n",
       "      <td>6</td>\n",
       "      <td>960</td>\n",
       "      <td>907</td>\n",
       "    </tr>\n",
       "    <tr>\n",
       "      <th>6</th>\n",
       "      <td>7</td>\n",
       "      <td>890</td>\n",
       "      <td>960</td>\n",
       "    </tr>\n",
       "    <tr>\n",
       "      <th>7</th>\n",
       "      <td>8</td>\n",
       "      <td>910</td>\n",
       "      <td>978</td>\n",
       "    </tr>\n",
       "    <tr>\n",
       "      <th>8</th>\n",
       "      <td>9</td>\n",
       "      <td>944</td>\n",
       "      <td>1041</td>\n",
       "    </tr>\n",
       "    <tr>\n",
       "      <th>9</th>\n",
       "      <td>10</td>\n",
       "      <td>1065</td>\n",
       "      <td>1026</td>\n",
       "    </tr>\n",
       "    <tr>\n",
       "      <th>10</th>\n",
       "      <td>11</td>\n",
       "      <td>1083</td>\n",
       "      <td>590</td>\n",
       "    </tr>\n",
       "    <tr>\n",
       "      <th>11</th>\n",
       "      <td>12</td>\n",
       "      <td>1820</td>\n",
       "      <td>990</td>\n",
       "    </tr>\n",
       "    <tr>\n",
       "      <th>12</th>\n",
       "      <td>13</td>\n",
       "      <td>859</td>\n",
       "      <td>1076</td>\n",
       "    </tr>\n",
       "    <tr>\n",
       "      <th>13</th>\n",
       "      <td>14</td>\n",
       "      <td>1043</td>\n",
       "      <td>1092</td>\n",
       "    </tr>\n",
       "    <tr>\n",
       "      <th>14</th>\n",
       "      <td>15</td>\n",
       "      <td>1710</td>\n",
       "      <td>1026</td>\n",
       "    </tr>\n",
       "    <tr>\n",
       "      <th>15</th>\n",
       "      <td>16</td>\n",
       "      <td>933</td>\n",
       "      <td>935</td>\n",
       "    </tr>\n",
       "    <tr>\n",
       "      <th>16</th>\n",
       "      <td>17</td>\n",
       "      <td>790</td>\n",
       "      <td>1710</td>\n",
       "    </tr>\n",
       "    <tr>\n",
       "      <th>17</th>\n",
       "      <td>18</td>\n",
       "      <td>999</td>\n",
       "      <td>946</td>\n",
       "    </tr>\n",
       "    <tr>\n",
       "      <th>18</th>\n",
       "      <td>19</td>\n",
       "      <td>1028</td>\n",
       "      <td>1073</td>\n",
       "    </tr>\n",
       "    <tr>\n",
       "      <th>19</th>\n",
       "      <td>20</td>\n",
       "      <td>976</td>\n",
       "      <td>986</td>\n",
       "    </tr>\n",
       "    <tr>\n",
       "      <th>20</th>\n",
       "      <td>21</td>\n",
       "      <td>1015</td>\n",
       "      <td>1078</td>\n",
       "    </tr>\n",
       "    <tr>\n",
       "      <th>21</th>\n",
       "      <td>22</td>\n",
       "      <td>932</td>\n",
       "      <td>969</td>\n",
       "    </tr>\n",
       "    <tr>\n",
       "      <th>22</th>\n",
       "      <td>23</td>\n",
       "      <td>957</td>\n",
       "      <td>1083</td>\n",
       "    </tr>\n",
       "    <tr>\n",
       "      <th>23</th>\n",
       "      <td>24</td>\n",
       "      <td>936</td>\n",
       "      <td>790</td>\n",
       "    </tr>\n",
       "    <tr>\n",
       "      <th>24</th>\n",
       "      <td>25</td>\n",
       "      <td>977</td>\n",
       "      <td>1007</td>\n",
       "    </tr>\n",
       "    <tr>\n",
       "      <th>25</th>\n",
       "      <td>26</td>\n",
       "      <td>1037</td>\n",
       "      <td>934</td>\n",
       "    </tr>\n",
       "    <tr>\n",
       "      <th>26</th>\n",
       "      <td>27</td>\n",
       "      <td>997</td>\n",
       "      <td>999</td>\n",
       "    </tr>\n",
       "    <tr>\n",
       "      <th>27</th>\n",
       "      <td>28</td>\n",
       "      <td>1730</td>\n",
       "      <td>1011</td>\n",
       "    </tr>\n",
       "    <tr>\n",
       "      <th>28</th>\n",
       "      <td>29</td>\n",
       "      <td>1046</td>\n",
       "      <td>942</td>\n",
       "    </tr>\n",
       "    <tr>\n",
       "      <th>29</th>\n",
       "      <td>30</td>\n",
       "      <td>1840</td>\n",
       "      <td>1090</td>\n",
       "    </tr>\n",
       "  </tbody>\n",
       "</table>\n",
       "</div>"
      ],
      "text/plain": [
       "    Lot_No  Jaguar  Panther\n",
       "0        1     997     1035\n",
       "1        2    1153      975\n",
       "2        3     920      982\n",
       "3        4    1074     1038\n",
       "4        5    1013      891\n",
       "5        6     960      907\n",
       "6        7     890      960\n",
       "7        8     910      978\n",
       "8        9     944     1041\n",
       "9       10    1065     1026\n",
       "10      11    1083      590\n",
       "11      12    1820      990\n",
       "12      13     859     1076\n",
       "13      14    1043     1092\n",
       "14      15    1710     1026\n",
       "15      16     933      935\n",
       "16      17     790     1710\n",
       "17      18     999      946\n",
       "18      19    1028     1073\n",
       "19      20     976      986\n",
       "20      21    1015     1078\n",
       "21      22     932      969\n",
       "22      23     957     1083\n",
       "23      24     936      790\n",
       "24      25     977     1007\n",
       "25      26    1037      934\n",
       "26      27     997      999\n",
       "27      28    1730     1011\n",
       "28      29    1046      942\n",
       "29      30    1840     1090"
      ]
     },
     "execution_count": 2,
     "metadata": {},
     "output_type": "execute_result"
    }
   ],
   "source": [
    "df = pd.read_csv(\"Jaguar-Panther-Data.csv\")\n",
    "df"
   ]
  },
  {
   "cell_type": "markdown",
   "metadata": {},
   "source": [
    "Display <i>summary</i> of the <b>DataFrame</b>"
   ]
  },
  {
   "cell_type": "code",
   "execution_count": 3,
   "metadata": {},
   "outputs": [
    {
     "name": "stdout",
     "output_type": "stream",
     "text": [
      "<class 'pandas.core.frame.DataFrame'>\n",
      "RangeIndex: 30 entries, 0 to 29\n",
      "Data columns (total 3 columns):\n",
      " #   Column   Non-Null Count  Dtype\n",
      "---  ------   --------------  -----\n",
      " 0   Lot_No   30 non-null     int64\n",
      " 1   Jaguar   30 non-null     int64\n",
      " 2   Panther  30 non-null     int64\n",
      "dtypes: int64(3)\n",
      "memory usage: 852.0 bytes\n"
     ]
    }
   ],
   "source": [
    "df.info()"
   ]
  },
  {
   "cell_type": "markdown",
   "metadata": {},
   "source": [
    "Display the <i>statistical summary</i> of the <b>DataFrame</b>"
   ]
  },
  {
   "cell_type": "code",
   "execution_count": 4,
   "metadata": {},
   "outputs": [
    {
     "data": {
      "text/html": [
       "<div>\n",
       "<style scoped>\n",
       "    .dataframe tbody tr th:only-of-type {\n",
       "        vertical-align: middle;\n",
       "    }\n",
       "\n",
       "    .dataframe tbody tr th {\n",
       "        vertical-align: top;\n",
       "    }\n",
       "\n",
       "    .dataframe thead th {\n",
       "        text-align: right;\n",
       "    }\n",
       "</style>\n",
       "<table border=\"1\" class=\"dataframe\">\n",
       "  <thead>\n",
       "    <tr style=\"text-align: right;\">\n",
       "      <th></th>\n",
       "      <th>Lot_No</th>\n",
       "      <th>Jaguar</th>\n",
       "      <th>Panther</th>\n",
       "    </tr>\n",
       "  </thead>\n",
       "  <tbody>\n",
       "    <tr>\n",
       "      <th>count</th>\n",
       "      <td>30.000000</td>\n",
       "      <td>30.000000</td>\n",
       "      <td>30.000000</td>\n",
       "    </tr>\n",
       "    <tr>\n",
       "      <th>mean</th>\n",
       "      <td>15.500000</td>\n",
       "      <td>1087.800000</td>\n",
       "      <td>1005.333333</td>\n",
       "    </tr>\n",
       "    <tr>\n",
       "      <th>std</th>\n",
       "      <td>8.803408</td>\n",
       "      <td>284.165129</td>\n",
       "      <td>166.261392</td>\n",
       "    </tr>\n",
       "    <tr>\n",
       "      <th>min</th>\n",
       "      <td>1.000000</td>\n",
       "      <td>790.000000</td>\n",
       "      <td>590.000000</td>\n",
       "    </tr>\n",
       "    <tr>\n",
       "      <th>25%</th>\n",
       "      <td>8.250000</td>\n",
       "      <td>938.000000</td>\n",
       "      <td>949.500000</td>\n",
       "    </tr>\n",
       "    <tr>\n",
       "      <th>50%</th>\n",
       "      <td>15.500000</td>\n",
       "      <td>998.000000</td>\n",
       "      <td>994.500000</td>\n",
       "    </tr>\n",
       "    <tr>\n",
       "      <th>75%</th>\n",
       "      <td>22.750000</td>\n",
       "      <td>1060.250000</td>\n",
       "      <td>1040.250000</td>\n",
       "    </tr>\n",
       "    <tr>\n",
       "      <th>max</th>\n",
       "      <td>30.000000</td>\n",
       "      <td>1840.000000</td>\n",
       "      <td>1710.000000</td>\n",
       "    </tr>\n",
       "  </tbody>\n",
       "</table>\n",
       "</div>"
      ],
      "text/plain": [
       "          Lot_No       Jaguar      Panther\n",
       "count  30.000000    30.000000    30.000000\n",
       "mean   15.500000  1087.800000  1005.333333\n",
       "std     8.803408   284.165129   166.261392\n",
       "min     1.000000   790.000000   590.000000\n",
       "25%     8.250000   938.000000   949.500000\n",
       "50%    15.500000   998.000000   994.500000\n",
       "75%    22.750000  1060.250000  1040.250000\n",
       "max    30.000000  1840.000000  1710.000000"
      ]
     },
     "execution_count": 4,
     "metadata": {},
     "output_type": "execute_result"
    }
   ],
   "source": [
    "df.describe()"
   ]
  },
  {
   "cell_type": "markdown",
   "metadata": {},
   "source": [
    "## Jaguar Data Analysis"
   ]
  },
  {
   "cell_type": "markdown",
   "metadata": {},
   "source": [
    "The <i>mean</i> of <b>Jaguar's</b> performance data"
   ]
  },
  {
   "cell_type": "code",
   "execution_count": 5,
   "metadata": {},
   "outputs": [
    {
     "name": "stdout",
     "output_type": "stream",
     "text": [
      "Jaguar Mean: 1087.8\n"
     ]
    }
   ],
   "source": [
    "Jaguar_mean = df['Jaguar'].mean()\n",
    "print(\"Jaguar Mean: \" + str(Jaguar_mean))"
   ]
  },
  {
   "cell_type": "markdown",
   "metadata": {},
   "source": [
    "The <i>median</i> of <b>Jaguar's</b> performance data"
   ]
  },
  {
   "cell_type": "code",
   "execution_count": 6,
   "metadata": {},
   "outputs": [
    {
     "name": "stdout",
     "output_type": "stream",
     "text": [
      "Jaguar Median: 998.0\n"
     ]
    }
   ],
   "source": [
    "Jaguar_median = df['Jaguar'].median()\n",
    "print(\"Jaguar Median: \" + str(Jaguar_median))"
   ]
  },
  {
   "cell_type": "markdown",
   "metadata": {},
   "source": [
    "The <i>mode</i> of <b>Jaguar's</b> performance data"
   ]
  },
  {
   "cell_type": "code",
   "execution_count": 7,
   "metadata": {},
   "outputs": [
    {
     "name": "stdout",
     "output_type": "stream",
     "text": [
      "Jaguar Mode: 997\n"
     ]
    }
   ],
   "source": [
    "Jaguar_mode = df['Jaguar'].mode().to_numpy()[0]\n",
    "print(\"Jaguar Mode: \" + str(Jaguar_mode))"
   ]
  },
  {
   "cell_type": "markdown",
   "metadata": {},
   "source": [
    "The <i>range</i> of <b>Jaguar's</b> performance data"
   ]
  },
  {
   "cell_type": "code",
   "execution_count": 8,
   "metadata": {},
   "outputs": [
    {
     "name": "stdout",
     "output_type": "stream",
     "text": [
      "Jaguar Range: 1050\n"
     ]
    }
   ],
   "source": [
    "Jaguar_range = df['Jaguar'].max() - df['Jaguar'].min()\n",
    "print(\"Jaguar Range: \" +str(Jaguar_range))"
   ]
  },
  {
   "cell_type": "markdown",
   "metadata": {},
   "source": [
    "The <i>variance</i> of <b>Jaguar's</b> performance data"
   ]
  },
  {
   "cell_type": "code",
   "execution_count": 9,
   "metadata": {},
   "outputs": [
    {
     "name": "stdout",
     "output_type": "stream",
     "text": [
      "Jaguar Variance: 80749.82\n"
     ]
    }
   ],
   "source": [
    "Jaguar_variance = df['Jaguar'].var()\n",
    "print(\"Jaguar Variance: \" + str(Jaguar_variance.round(2)))"
   ]
  },
  {
   "cell_type": "markdown",
   "metadata": {},
   "source": [
    "The <i>standard deviation</i> of <b>Jaguar's</b> performance data"
   ]
  },
  {
   "cell_type": "code",
   "execution_count": 10,
   "metadata": {},
   "outputs": [
    {
     "name": "stdout",
     "output_type": "stream",
     "text": [
      "Jaguar Standard Deviation: 284.17\n"
     ]
    }
   ],
   "source": [
    "Jaguar_standardDeviation = df['Jaguar'].std()\n",
    "print(\"Jaguar Standard Deviation: \" + str(Jaguar_standardDeviation.round(2)))"
   ]
  },
  {
   "cell_type": "markdown",
   "metadata": {},
   "source": [
    "The <i>coefficient of variance</i> of <b>Jaguar's</b> performance data"
   ]
  },
  {
   "cell_type": "code",
   "execution_count": 11,
   "metadata": {},
   "outputs": [
    {
     "name": "stdout",
     "output_type": "stream",
     "text": [
      "Jaguar Coefficient of Variation: 0.26\n"
     ]
    }
   ],
   "source": [
    "Jaguar_coefficientVariation = (Jaguar_standardDeviation / Jaguar_mean)\n",
    "print(\"Jaguar Coefficient of Variation: \" + str(Jaguar_coefficientVariation.round(2)))"
   ]
  },
  {
   "cell_type": "markdown",
   "metadata": {},
   "source": [
    "The <i>boxplot</i> graph of <b>Jaguar's</b> performance data"
   ]
  },
  {
   "cell_type": "code",
   "execution_count": 12,
   "metadata": {},
   "outputs": [
    {
     "data": {
      "text/plain": [
       "<function matplotlib.pyplot.show(close=None, block=None)>"
      ]
     },
     "execution_count": 12,
     "metadata": {},
     "output_type": "execute_result"
    },
    {
     "data": {
      "image/png": "[encoded data removed]",
      "text/plain": [
       "<Figure size 640x480 with 1 Axes>"
      ]
     },
     "metadata": {},
     "output_type": "display_data"
    }
   ],
   "source": [
    "colors = ['#F6C324']\n",
    "\n",
    "bp = mpl.boxplot(df['Jaguar'], patch_artist=True)\n",
    "\n",
    "mpl.title(\"Jaguar Performance Boxplot\")\n",
    "mpl.xlabel(\"Jaguar\")\n",
    "mpl.ylabel(\"Produced Resistance Rating (Ω)\")\n",
    "mpl.xticks([])\n",
    "\n",
    "for patch, color in zip(bp['boxes'], colors):\n",
    "    patch.set_facecolor(color)\n",
    "\n",
    "mpl.show"
   ]
  },
  {
   "cell_type": "markdown",
   "metadata": {},
   "source": [
    "## Panther Data Analysis"
   ]
  },
  {
   "cell_type": "markdown",
   "metadata": {},
   "source": [
    "The <i>mean</i> of <b>Panther's</b> performance data"
   ]
  },
  {
   "cell_type": "code",
   "execution_count": 13,
   "metadata": {},
   "outputs": [
    {
     "name": "stdout",
     "output_type": "stream",
     "text": [
      "Panther Mean: 1005.33\n"
     ]
    }
   ],
   "source": [
    "Panther_mean = df['Panther'].mean()\n",
    "print(\"Panther Mean: \" + str(Panther_mean.round(2)))"
   ]
  },
  {
   "cell_type": "markdown",
   "metadata": {},
   "source": [
    "The <i>median</i> of <b>Panther's</b> performance data"
   ]
  },
  {
   "cell_type": "code",
   "execution_count": 14,
   "metadata": {},
   "outputs": [
    {
     "name": "stdout",
     "output_type": "stream",
     "text": [
      "Panther Median: 994.5\n"
     ]
    }
   ],
   "source": [
    "Panther_median = df['Panther'].median()\n",
    "print(\"Panther Median: \" + str(Panther_median))"
   ]
  },
  {
   "cell_type": "markdown",
   "metadata": {},
   "source": [
    "The <i>mode</i> of <b>Panther's</b> performance data"
   ]
  },
  {
   "cell_type": "code",
   "execution_count": 15,
   "metadata": {},
   "outputs": [
    {
     "name": "stdout",
     "output_type": "stream",
     "text": [
      "Panther Mode: 1026\n"
     ]
    }
   ],
   "source": [
    "Panther_mode = df['Panther'].mode().to_numpy()[0]\n",
    "print(\"Panther Mode: \" + str(Panther_mode))"
   ]
  },
  {
   "cell_type": "markdown",
   "metadata": {},
   "source": [
    "The <i>range</i> of <b>Panther's</b> performance data"
   ]
  },
  {
   "cell_type": "code",
   "execution_count": 16,
   "metadata": {},
   "outputs": [
    {
     "name": "stdout",
     "output_type": "stream",
     "text": [
      "Panther Range: 1120\n"
     ]
    }
   ],
   "source": [
    "Panther_range = df['Panther'].max() - df['Panther'].min()\n",
    "print(\"Panther Range: \" + str(Panther_range))"
   ]
  },
  {
   "cell_type": "markdown",
   "metadata": {},
   "source": [
    "The <i>variance</i> of <b>Panther's</b> performance data"
   ]
  },
  {
   "cell_type": "code",
   "execution_count": 17,
   "metadata": {},
   "outputs": [
    {
     "name": "stdout",
     "output_type": "stream",
     "text": [
      "Panther Variance: 27642.85\n"
     ]
    }
   ],
   "source": [
    "Panther_variance = df['Panther'].var()\n",
    "print(\"Panther Variance: \" + str(Panther_variance.round(2)))"
   ]
  },
  {
   "cell_type": "markdown",
   "metadata": {},
   "source": [
    "The <i>standard deviation</i> of <b>Panther's</b> performance data"
   ]
  },
  {
   "cell_type": "code",
   "execution_count": 18,
   "metadata": {},
   "outputs": [
    {
     "name": "stdout",
     "output_type": "stream",
     "text": [
      "Panther Standard Deviation: 166.26\n"
     ]
    }
   ],
   "source": [
    "Panther_standardDeviation = df['Panther'].std()\n",
    "print(\"Panther Standard Deviation: \" + str(Panther_standardDeviation.round(2)))"
   ]
  },
  {
   "cell_type": "markdown",
   "metadata": {},
   "source": [
    "The <i>coefficient of variation</i> of <b>Panther's</b> performance data"
   ]
  },
  {
   "cell_type": "code",
   "execution_count": 19,
   "metadata": {},
   "outputs": [
    {
     "name": "stdout",
     "output_type": "stream",
     "text": [
      "Panther Coefficient of Variation: 0.17\n"
     ]
    }
   ],
   "source": [
    "Panther_coefficentVariation = (Panther_standardDeviation / Panther_mean)\n",
    "print(\"Panther Coefficient of Variation: \" + str(Panther_coefficentVariation.round(2)))"
   ]
  },
  {
   "cell_type": "markdown",
   "metadata": {},
   "source": [
    "The <i>boxplot</i> graph of <b>Panther's</b> performance data"
   ]
  },
  {
   "cell_type": "code",
   "execution_count": 20,
   "metadata": {},
   "outputs": [
    {
     "data": {
      "text/plain": [
       "<function matplotlib.pyplot.show(close=None, block=None)>"
      ]
     },
     "execution_count": 20,
     "metadata": {},
     "output_type": "execute_result"
    },
    {
     "data": {
      "image/png": "[encoded data removed]",
      "text/plain": [
       "<Figure size 640x480 with 1 Axes>"
      ]
     },
     "metadata": {},
     "output_type": "display_data"
    }
   ],
   "source": [
    "colors = ['#000000']\n",
    "\n",
    "bp = mpl.boxplot(df['Panther'], patch_artist=True)\n",
    "\n",
    "mpl.title(\"Panther Performance Boxplot\")\n",
    "mpl.xlabel(\"Panther\")\n",
    "mpl.ylabel(\"Produced Resistance Rating (Ω)\")\n",
    "mpl.xticks([])\n",
    "\n",
    "for patch, color in zip(bp['boxes'], colors):\n",
    "    patch.set_facecolor(color)\n",
    "\n",
    "mpl.show"
   ]
  },
  {
   "cell_type": "markdown",
   "metadata": {},
   "source": [
    "## Hypothesis"
   ]
  },
  {
   "cell_type": "markdown",
   "metadata": {},
   "source": [
    "For ease of understanding, the following are graphical representations of the two machine's respective statistical data presented side-by-side"
   ]
  },
  {
   "cell_type": "markdown",
   "metadata": {},
   "source": [
    "### <h3><b>Mean</b></h3>\n",
    "Panther is closer to the target 1KΩ rating with a <i>mean</i> of <b>1005.33Ω</b>, unlike Jaguar which is a little higher with a <i>mean</i> of <b>1087.8Ω</b>"
   ]
  },
  {
   "cell_type": "code",
   "execution_count": 21,
   "metadata": {},
   "outputs": [
    {
     "data": {
      "image/png": "[encoded data removed]",
      "text/plain": [
       "<Figure size 640x480 with 1 Axes>"
      ]
     },
     "metadata": {},
     "output_type": "display_data"
    }
   ],
   "source": [
    "#Mean\n",
    "\n",
    "name = ['Jaguar', 'Panther']\n",
    "data = [Jaguar_mean,Panther_mean]\n",
    "colors = ['#F6C324', '#000000']\n",
    "\n",
    "mpl.bar(name,data,color=colors)\n",
    "mpl.xlabel('')\n",
    "mpl.ylabel('Mean')\n",
    "mpl.show()"
   ]
  },
  {
   "cell_type": "markdown",
   "metadata": {},
   "source": [
    "### <h3><b>Median</b></h3>\n",
    "Although can be considered a slight difference, Jaguar's performance is more <i>accurate</i> in hitting the target rating, with a value of <b>998Ω</b> as opposed to that of Panther's which has a value of <b>994.5Ω</b>"
   ]
  },
  {
   "cell_type": "code",
   "execution_count": 22,
   "metadata": {},
   "outputs": [
    {
     "data": {
      "image/png": "[encoded data removed]",
      "text/plain": [
       "<Figure size 640x480 with 1 Axes>"
      ]
     },
     "metadata": {},
     "output_type": "display_data"
    }
   ],
   "source": [
    "#Median\n",
    "\n",
    "name = ['Jaguar', 'Panther']\n",
    "data = [Jaguar_median,Panther_median]\n",
    "colors = ['#F6C324', '#000000']\n",
    "\n",
    "mpl.bar(name,data,color=colors)\n",
    "mpl.xlabel('')\n",
    "mpl.ylabel('Median')\n",
    "mpl.show()"
   ]
  },
  {
   "cell_type": "markdown",
   "metadata": {},
   "source": [
    "### <h3><b>Mode</b></h3>\n",
    "Jaguar produces a resistor with the <i>frequent rating</i> of <b>997Ω</b> which is closer to the expected 1KΩ compared to that of Panther's which is a larger value of <b>1026Ω</b>"
   ]
  },
  {
   "cell_type": "code",
   "execution_count": 23,
   "metadata": {},
   "outputs": [
    {
     "data": {
      "image/png": "[encoded data removed]",
      "text/plain": [
       "<Figure size 640x480 with 1 Axes>"
      ]
     },
     "metadata": {},
     "output_type": "display_data"
    }
   ],
   "source": [
    "# Mode \n",
    "\n",
    "name = ['Jaguar', 'Panther']\n",
    "data = [Jaguar_mode,Panther_mode]\n",
    "colors = ['#F6C324', '#000000']\n",
    "\n",
    "mpl.bar(name,data,color=colors)\n",
    "mpl.xlabel('')\n",
    "mpl.ylabel('Mode')\n",
    "mpl.show()"
   ]
  },
  {
   "cell_type": "markdown",
   "metadata": {},
   "source": [
    "### <h3><b>Range</b></h3>\n",
    "Panther has a range of <b>1120Ω</b> which may indicate high variability compared to Jaguar which is <b>1050Ω</b>"
   ]
  },
  {
   "cell_type": "code",
   "execution_count": 24,
   "metadata": {},
   "outputs": [
    {
     "data": {
      "image/png": "[encoded data removed]",
      "text/plain": [
       "<Figure size 640x480 with 1 Axes>"
      ]
     },
     "metadata": {},
     "output_type": "display_data"
    }
   ],
   "source": [
    "# Range \n",
    "\n",
    "name = ['Jaguar', 'Panther']\n",
    "data = [Jaguar_range,Panther_range]\n",
    "colors = ['#F6C324', '#000000']\n",
    "\n",
    "mpl.bar(name,data,color=colors)\n",
    "mpl.xlabel('')\n",
    "mpl.ylabel('Range')\n",
    "mpl.show()"
   ]
  },
  {
   "cell_type": "markdown",
   "metadata": {},
   "source": [
    "### <h3><b>Variance</b></h3>\n",
    "Jaguar's <i>variance</i> of <b>80,749.82</b> is significantly higher to that of Panther's which only has a mere value of <b>27,642.85</b>. This may suggest that Panther produces resistors with <i>great consistency</i> in reaching the target rating, while Jaguar's high variance value indicate large fluctuations in producing the resistor's resistance ratings"
   ]
  },
  {
   "cell_type": "code",
   "execution_count": 25,
   "metadata": {},
   "outputs": [
    {
     "data": {
      "image/png": "[encoded data removed]",
      "text/plain": [
       "<Figure size 640x480 with 1 Axes>"
      ]
     },
     "metadata": {},
     "output_type": "display_data"
    }
   ],
   "source": [
    "# Variance \n",
    "\n",
    "name = ['Jaguar', 'Panther']\n",
    "data = [Jaguar_variance,Panther_variance]\n",
    "colors = ['#F6C324', '#000000']\n",
    "\n",
    "mpl.bar(name,data,color=colors)\n",
    "mpl.xlabel('')\n",
    "mpl.ylabel('Variance')\n",
    "mpl.show()"
   ]
  },
  {
   "cell_type": "markdown",
   "metadata": {},
   "source": [
    "### <h3><b>Standard Deviation</b></h3>\n",
    "Jaguar's <i>standard deviation</i> has a value of <b>284.17</b>, indicating higher variability in its resistor's resistance ratings than of Panther's which has a <i>standard deviation</i> of <b>166.26</b>"
   ]
  },
  {
   "cell_type": "code",
   "execution_count": 26,
   "metadata": {},
   "outputs": [
    {
     "data": {
      "image/png": "[encoded data removed]",
      "text/plain": [
       "<Figure size 640x480 with 1 Axes>"
      ]
     },
     "metadata": {},
     "output_type": "display_data"
    }
   ],
   "source": [
    "# Standard Deviation\n",
    "\n",
    "name = ['Jaguar', 'Panther']\n",
    "data = [Jaguar_standardDeviation,Panther_standardDeviation]\n",
    "colors = ['#F6C324', '#000000']\n",
    "\n",
    "mpl.bar(name,data,color=colors)\n",
    "mpl.xlabel('')\n",
    "mpl.ylabel('Standard Deviation')\n",
    "mpl.show()"
   ]
  },
  {
   "cell_type": "markdown",
   "metadata": {},
   "source": [
    "### <h3><b>Coefficient of Variation</b></h3>\n",
    "Jaguar's <i>coefficient of variation</i> has a value of <b>0.26</b>, while Panther's has a <i>coefficient of variation</i> of <b>0.17</b>. This suggests that the resistors which Jaguar outputs are more inconsistent relative to their average value."
   ]
  },
  {
   "cell_type": "code",
   "execution_count": 27,
   "metadata": {},
   "outputs": [
    {
     "data": {
      "image/png": "[encoded data removed]",
      "text/plain": [
       "<Figure size 640x480 with 1 Axes>"
      ]
     },
     "metadata": {},
     "output_type": "display_data"
    }
   ],
   "source": [
    "# Coefficient of Variation \n",
    "\n",
    "name = ['Jaguar', 'Panther']\n",
    "data = [Jaguar_coefficientVariation,Panther_coefficentVariation]\n",
    "colors = ['#F6C324', '#000000']\n",
    "\n",
    "mpl.bar(name,data,color=colors)\n",
    "mpl.xlabel('')\n",
    "mpl.ylabel('Coefficient of Variation')\n",
    "mpl.show()"
   ]
  },
  {
   "cell_type": "markdown",
   "metadata": {},
   "source": [
    "### <h3><b>Jaguar and Panther Boxplot Graphical Comparison</b></h3>"
   ]
  },
  {
   "cell_type": "code",
   "execution_count": 28,
   "metadata": {},
   "outputs": [
    {
     "data": {
      "text/plain": [
       "<function matplotlib.pyplot.show(close=None, block=None)>"
      ]
     },
     "execution_count": 28,
     "metadata": {},
     "output_type": "execute_result"
    },
    {
     "data": {
      "image/png": "[encoded data removed]",
      "text/plain": [
       "<Figure size 800x600 with 1 Axes>"
      ]
     },
     "metadata": {},
     "output_type": "display_data"
    }
   ],
   "source": [
    "colors = ['#F6C324', '#000000']\n",
    "\n",
    "mpl.figure(figsize=(8, 6))\n",
    "\n",
    "bp = mpl.boxplot([df['Jaguar'], df['Panther']], patch_artist=True)\n",
    "\n",
    "mpl.title(\"Jaguar and Panther Performance Boxplot\")\n",
    "mpl.ylabel(\"Produced Resistance Rating (Ω)\")\n",
    "mpl.xticks([1, 2], ['Jaguar', 'Panther'])\n",
    "\n",
    "mpl.grid(axis='y', linestyle ='-', alpha=0.5)\n",
    "\n",
    "for patch, color in zip(bp['boxes'], colors):\n",
    "    patch.set_facecolor(color)\n",
    "\n",
    "mpl.show"
   ]
  },
  {
   "cell_type": "markdown",
   "metadata": {},
   "source": [
    "### <h2><b>Conclusion</b></h2>"
   ]
  },
  {
   "cell_type": "markdown",
   "metadata": {},
   "source": [
    "Although both machines have <i>outliers</i>—which are labeled as hollow circles on the presented graphs—Panther has relatively <b>fewer</b> <i>outliers</i> compared to that of Jaguar. Additionally, the Panther machine shows <b>lesser</b> <i>variability</i> which indicate that on <i>average</i>, the aforementioned machine is <b>consistent</b> in its capability to produce resistors that accurately satisfies the target resistance rating—given that it is within the margin of error—as opposed to the Jaguar machine which shows some fluctations in its production. The inconsistencies observed on Jaguar's performance may suggest <b>underlying issues</b> within the machine, I highly suggest to have it <b>checked for maintenance</b> to ensure that production errors are less likely to occur in the future."
   ]
  }
 ],
 "metadata": {
  "kernelspec": {
   "display_name": "Python 3",
   "language": "python",
   "name": "python3"
  },
  "language_info": {
   "codemirror_mode": {
    "name": "ipython",
    "version": 3
   },
   "file_extension": ".py",
   "mimetype": "text/x-python",
   "name": "python",
   "nbconvert_exporter": "python",
   "pygments_lexer": "ipython3",
   "version": "3.13.1"
  }
 },
 "nbformat": 4,
 "nbformat_minor": 2
}
