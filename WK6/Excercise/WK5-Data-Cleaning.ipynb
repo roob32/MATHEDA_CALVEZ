{
 "cells": [
  {
   "cell_type": "markdown",
   "metadata": {},
   "source": [
    "# WK6 Data Cleaning <p style=\"border:6px solid #ffd700\"></p>"
   ]
  },
  {
   "cell_type": "markdown",
   "metadata": {},
   "source": [
    "Name: <b>Robb Ryan P. Calvez</b><br>\n",
    "Course: <b>CPE2A</b>"
   ]
  },
  {
   "cell_type": "markdown",
   "metadata": {},
   "source": [
    "Import <b>pandas</b>, <b>numpy</b> and <b>matplotlib</b> library"
   ]
  },
  {
   "cell_type": "code",
   "execution_count": 206,
   "metadata": {},
   "outputs": [],
   "source": [
    "import pandas as pd;\n",
    "import numpy as np;\n",
    "import matplotlib as mpl;"
   ]
  },
  {
   "cell_type": "markdown",
   "metadata": {},
   "source": [
    "## Overview of the Dataset"
   ]
  },
  {
   "cell_type": "markdown",
   "metadata": {},
   "source": [
    "<p>Load the <b>\"chip-dataset.csv\"</b> <br>\n",
    "<b>r</b> - Stands for <i>raw string</i>. <br>\n",
    "It tells the Python to treat the string literally (backslashes ( <b>\\</b> ) are not interpreted as escape characters).</p>"
   ]
  },
  {
   "cell_type": "code",
   "execution_count": 207,
   "metadata": {},
   "outputs": [
    {
     "name": "stdout",
     "output_type": "stream",
     "text": [
      "<class 'pandas.core.frame.DataFrame'>\n",
      "RangeIndex: 4854 entries, 0 to 4853\n",
      "Data columns (total 14 columns):\n",
      " #   Column                 Non-Null Count  Dtype  \n",
      "---  ------                 --------------  -----  \n",
      " 0   Unnamed: 0             4854 non-null   int64  \n",
      " 1   Product                4854 non-null   object \n",
      " 2   Type                   4854 non-null   object \n",
      " 3   Release Date           4854 non-null   object \n",
      " 4   Process Size (nm)      4845 non-null   float64\n",
      " 5   TDP (W)                4228 non-null   float64\n",
      " 6   Die Size (mm^2)        4139 non-null   float64\n",
      " 7   Transistors (million)  4143 non-null   float64\n",
      " 8   Freq (MHz)             4854 non-null   int64  \n",
      " 9   Foundry                4854 non-null   object \n",
      " 10  Vendor                 4854 non-null   object \n",
      " 11  FP16 GFLOPS            536 non-null    float64\n",
      " 12  FP32 GFLOPS            1948 non-null   float64\n",
      " 13  FP64 GFLOPS            1306 non-null   float64\n",
      "dtypes: float64(7), int64(2), object(5)\n",
      "memory usage: 531.0+ KB\n"
     ]
    }
   ],
   "source": [
    "df = pd.read_csv(r\"..\\.raw\\chip-dataset.csv\", delimiter=\",\")\n",
    "df.info()"
   ]
  },
  {
   "cell_type": "markdown",
   "metadata": {},
   "source": [
    "Display an <b>overview</b> of the dataset"
   ]
  },
  {
   "cell_type": "code",
   "execution_count": 208,
   "metadata": {},
   "outputs": [
    {
     "data": {
      "text/html": [
       "<div>\n",
       "<style scoped>\n",
       "    .dataframe tbody tr th:only-of-type {\n",
       "        vertical-align: middle;\n",
       "    }\n",
       "\n",
       "    .dataframe tbody tr th {\n",
       "        vertical-align: top;\n",
       "    }\n",
       "\n",
       "    .dataframe thead th {\n",
       "        text-align: right;\n",
       "    }\n",
       "</style>\n",
       "<table border=\"1\" class=\"dataframe\">\n",
       "  <thead>\n",
       "    <tr style=\"text-align: right;\">\n",
       "      <th></th>\n",
       "      <th>Unnamed: 0</th>\n",
       "      <th>Product</th>\n",
       "      <th>Type</th>\n",
       "      <th>Release Date</th>\n",
       "      <th>Process Size (nm)</th>\n",
       "      <th>TDP (W)</th>\n",
       "      <th>Die Size (mm^2)</th>\n",
       "      <th>Transistors (million)</th>\n",
       "      <th>Freq (MHz)</th>\n",
       "      <th>Foundry</th>\n",
       "      <th>Vendor</th>\n",
       "      <th>FP16 GFLOPS</th>\n",
       "      <th>FP32 GFLOPS</th>\n",
       "      <th>FP64 GFLOPS</th>\n",
       "    </tr>\n",
       "  </thead>\n",
       "  <tbody>\n",
       "    <tr>\n",
       "      <th>0</th>\n",
       "      <td>0</td>\n",
       "      <td>AMD Athlon 64 3500+</td>\n",
       "      <td>CPU</td>\n",
       "      <td>2/20/2007</td>\n",
       "      <td>65.0</td>\n",
       "      <td>45.0</td>\n",
       "      <td>77.0</td>\n",
       "      <td>122.0</td>\n",
       "      <td>2200</td>\n",
       "      <td>Unknown</td>\n",
       "      <td>AMD</td>\n",
       "      <td>NaN</td>\n",
       "      <td>NaN</td>\n",
       "      <td>NaN</td>\n",
       "    </tr>\n",
       "    <tr>\n",
       "      <th>1</th>\n",
       "      <td>1</td>\n",
       "      <td>AMD Athlon 200GE</td>\n",
       "      <td>CPU</td>\n",
       "      <td>9/6/2018</td>\n",
       "      <td>14.0</td>\n",
       "      <td>35.0</td>\n",
       "      <td>192.0</td>\n",
       "      <td>4800.0</td>\n",
       "      <td>3200</td>\n",
       "      <td>Unknown</td>\n",
       "      <td>AMD</td>\n",
       "      <td>NaN</td>\n",
       "      <td>NaN</td>\n",
       "      <td>NaN</td>\n",
       "    </tr>\n",
       "    <tr>\n",
       "      <th>2</th>\n",
       "      <td>2</td>\n",
       "      <td>Intel Core i5-1145G7</td>\n",
       "      <td>CPU</td>\n",
       "      <td>9/2/2020</td>\n",
       "      <td>10.0</td>\n",
       "      <td>28.0</td>\n",
       "      <td>NaN</td>\n",
       "      <td>NaN</td>\n",
       "      <td>2600</td>\n",
       "      <td>Intel</td>\n",
       "      <td>Intel</td>\n",
       "      <td>NaN</td>\n",
       "      <td>NaN</td>\n",
       "      <td>NaN</td>\n",
       "    </tr>\n",
       "    <tr>\n",
       "      <th>3</th>\n",
       "      <td>3</td>\n",
       "      <td>Intel Xeon E5-2603 v2</td>\n",
       "      <td>CPU</td>\n",
       "      <td>9/1/2013</td>\n",
       "      <td>22.0</td>\n",
       "      <td>80.0</td>\n",
       "      <td>160.0</td>\n",
       "      <td>1400.0</td>\n",
       "      <td>1800</td>\n",
       "      <td>Intel</td>\n",
       "      <td>Intel</td>\n",
       "      <td>NaN</td>\n",
       "      <td>NaN</td>\n",
       "      <td>NaN</td>\n",
       "    </tr>\n",
       "    <tr>\n",
       "      <th>4</th>\n",
       "      <td>4</td>\n",
       "      <td>AMD Phenom II X4 980 BE</td>\n",
       "      <td>CPU</td>\n",
       "      <td>5/3/2011</td>\n",
       "      <td>45.0</td>\n",
       "      <td>125.0</td>\n",
       "      <td>258.0</td>\n",
       "      <td>758.0</td>\n",
       "      <td>3700</td>\n",
       "      <td>Unknown</td>\n",
       "      <td>AMD</td>\n",
       "      <td>NaN</td>\n",
       "      <td>NaN</td>\n",
       "      <td>NaN</td>\n",
       "    </tr>\n",
       "  </tbody>\n",
       "</table>\n",
       "</div>"
      ],
      "text/plain": [
       "   Unnamed: 0                  Product Type Release Date  Process Size (nm)  \\\n",
       "0           0      AMD Athlon 64 3500+  CPU    2/20/2007               65.0   \n",
       "1           1         AMD Athlon 200GE  CPU     9/6/2018               14.0   \n",
       "2           2     Intel Core i5-1145G7  CPU     9/2/2020               10.0   \n",
       "3           3    Intel Xeon E5-2603 v2  CPU     9/1/2013               22.0   \n",
       "4           4  AMD Phenom II X4 980 BE  CPU     5/3/2011               45.0   \n",
       "\n",
       "   TDP (W)  Die Size (mm^2)  Transistors (million)  Freq (MHz)  Foundry  \\\n",
       "0     45.0             77.0                  122.0        2200  Unknown   \n",
       "1     35.0            192.0                 4800.0        3200  Unknown   \n",
       "2     28.0              NaN                    NaN        2600    Intel   \n",
       "3     80.0            160.0                 1400.0        1800    Intel   \n",
       "4    125.0            258.0                  758.0        3700  Unknown   \n",
       "\n",
       "  Vendor  FP16 GFLOPS  FP32 GFLOPS  FP64 GFLOPS  \n",
       "0    AMD          NaN          NaN          NaN  \n",
       "1    AMD          NaN          NaN          NaN  \n",
       "2  Intel          NaN          NaN          NaN  \n",
       "3  Intel          NaN          NaN          NaN  \n",
       "4    AMD          NaN          NaN          NaN  "
      ]
     },
     "execution_count": 208,
     "metadata": {},
     "output_type": "execute_result"
    }
   ],
   "source": [
    "df.head()"
   ]
  },
  {
   "cell_type": "markdown",
   "metadata": {},
   "source": [
    "<b>Drop</b> the first column"
   ]
  },
  {
   "cell_type": "code",
   "execution_count": 209,
   "metadata": {},
   "outputs": [
    {
     "data": {
      "text/html": [
       "<div>\n",
       "<style scoped>\n",
       "    .dataframe tbody tr th:only-of-type {\n",
       "        vertical-align: middle;\n",
       "    }\n",
       "\n",
       "    .dataframe tbody tr th {\n",
       "        vertical-align: top;\n",
       "    }\n",
       "\n",
       "    .dataframe thead th {\n",
       "        text-align: right;\n",
       "    }\n",
       "</style>\n",
       "<table border=\"1\" class=\"dataframe\">\n",
       "  <thead>\n",
       "    <tr style=\"text-align: right;\">\n",
       "      <th></th>\n",
       "      <th>Product</th>\n",
       "      <th>Type</th>\n",
       "      <th>Release Date</th>\n",
       "      <th>Process Size (nm)</th>\n",
       "      <th>TDP (W)</th>\n",
       "      <th>Die Size (mm^2)</th>\n",
       "      <th>Transistors (million)</th>\n",
       "      <th>Freq (MHz)</th>\n",
       "      <th>Foundry</th>\n",
       "      <th>Vendor</th>\n",
       "      <th>FP16 GFLOPS</th>\n",
       "      <th>FP32 GFLOPS</th>\n",
       "      <th>FP64 GFLOPS</th>\n",
       "    </tr>\n",
       "  </thead>\n",
       "  <tbody>\n",
       "    <tr>\n",
       "      <th>0</th>\n",
       "      <td>AMD Athlon 64 3500+</td>\n",
       "      <td>CPU</td>\n",
       "      <td>2/20/2007</td>\n",
       "      <td>65.0</td>\n",
       "      <td>45.0</td>\n",
       "      <td>77.0</td>\n",
       "      <td>122.0</td>\n",
       "      <td>2200</td>\n",
       "      <td>Unknown</td>\n",
       "      <td>AMD</td>\n",
       "      <td>NaN</td>\n",
       "      <td>NaN</td>\n",
       "      <td>NaN</td>\n",
       "    </tr>\n",
       "    <tr>\n",
       "      <th>1</th>\n",
       "      <td>AMD Athlon 200GE</td>\n",
       "      <td>CPU</td>\n",
       "      <td>9/6/2018</td>\n",
       "      <td>14.0</td>\n",
       "      <td>35.0</td>\n",
       "      <td>192.0</td>\n",
       "      <td>4800.0</td>\n",
       "      <td>3200</td>\n",
       "      <td>Unknown</td>\n",
       "      <td>AMD</td>\n",
       "      <td>NaN</td>\n",
       "      <td>NaN</td>\n",
       "      <td>NaN</td>\n",
       "    </tr>\n",
       "    <tr>\n",
       "      <th>2</th>\n",
       "      <td>Intel Core i5-1145G7</td>\n",
       "      <td>CPU</td>\n",
       "      <td>9/2/2020</td>\n",
       "      <td>10.0</td>\n",
       "      <td>28.0</td>\n",
       "      <td>NaN</td>\n",
       "      <td>NaN</td>\n",
       "      <td>2600</td>\n",
       "      <td>Intel</td>\n",
       "      <td>Intel</td>\n",
       "      <td>NaN</td>\n",
       "      <td>NaN</td>\n",
       "      <td>NaN</td>\n",
       "    </tr>\n",
       "    <tr>\n",
       "      <th>3</th>\n",
       "      <td>Intel Xeon E5-2603 v2</td>\n",
       "      <td>CPU</td>\n",
       "      <td>9/1/2013</td>\n",
       "      <td>22.0</td>\n",
       "      <td>80.0</td>\n",
       "      <td>160.0</td>\n",
       "      <td>1400.0</td>\n",
       "      <td>1800</td>\n",
       "      <td>Intel</td>\n",
       "      <td>Intel</td>\n",
       "      <td>NaN</td>\n",
       "      <td>NaN</td>\n",
       "      <td>NaN</td>\n",
       "    </tr>\n",
       "    <tr>\n",
       "      <th>4</th>\n",
       "      <td>AMD Phenom II X4 980 BE</td>\n",
       "      <td>CPU</td>\n",
       "      <td>5/3/2011</td>\n",
       "      <td>45.0</td>\n",
       "      <td>125.0</td>\n",
       "      <td>258.0</td>\n",
       "      <td>758.0</td>\n",
       "      <td>3700</td>\n",
       "      <td>Unknown</td>\n",
       "      <td>AMD</td>\n",
       "      <td>NaN</td>\n",
       "      <td>NaN</td>\n",
       "      <td>NaN</td>\n",
       "    </tr>\n",
       "  </tbody>\n",
       "</table>\n",
       "</div>"
      ],
      "text/plain": [
       "                   Product Type Release Date  Process Size (nm)  TDP (W)  \\\n",
       "0      AMD Athlon 64 3500+  CPU    2/20/2007               65.0     45.0   \n",
       "1         AMD Athlon 200GE  CPU     9/6/2018               14.0     35.0   \n",
       "2     Intel Core i5-1145G7  CPU     9/2/2020               10.0     28.0   \n",
       "3    Intel Xeon E5-2603 v2  CPU     9/1/2013               22.0     80.0   \n",
       "4  AMD Phenom II X4 980 BE  CPU     5/3/2011               45.0    125.0   \n",
       "\n",
       "   Die Size (mm^2)  Transistors (million)  Freq (MHz)  Foundry Vendor  \\\n",
       "0             77.0                  122.0        2200  Unknown    AMD   \n",
       "1            192.0                 4800.0        3200  Unknown    AMD   \n",
       "2              NaN                    NaN        2600    Intel  Intel   \n",
       "3            160.0                 1400.0        1800    Intel  Intel   \n",
       "4            258.0                  758.0        3700  Unknown    AMD   \n",
       "\n",
       "   FP16 GFLOPS  FP32 GFLOPS  FP64 GFLOPS  \n",
       "0          NaN          NaN          NaN  \n",
       "1          NaN          NaN          NaN  \n",
       "2          NaN          NaN          NaN  \n",
       "3          NaN          NaN          NaN  \n",
       "4          NaN          NaN          NaN  "
      ]
     },
     "execution_count": 209,
     "metadata": {},
     "output_type": "execute_result"
    }
   ],
   "source": [
    "df = df.drop(df.columns[0], axis=1) # 1 for row, 0 for column\n",
    "df.head()"
   ]
  },
  {
   "cell_type": "markdown",
   "metadata": {},
   "source": [
    "<b>Rename</b> columns"
   ]
  },
  {
   "cell_type": "code",
   "execution_count": 210,
   "metadata": {},
   "outputs": [
    {
     "name": "stdout",
     "output_type": "stream",
     "text": [
      "<class 'pandas.core.frame.DataFrame'>\n",
      "RangeIndex: 4854 entries, 0 to 4853\n",
      "Data columns (total 13 columns):\n",
      " #   Column        Non-Null Count  Dtype  \n",
      "---  ------        --------------  -----  \n",
      " 0   Product       4854 non-null   object \n",
      " 1   Type          4854 non-null   object \n",
      " 2   Date          4854 non-null   object \n",
      " 3   Process_Size  4845 non-null   float64\n",
      " 4   TDP           4228 non-null   float64\n",
      " 5   Die_Size      4139 non-null   float64\n",
      " 6   Transistors   4143 non-null   float64\n",
      " 7   Frequency     4854 non-null   int64  \n",
      " 8   Foundry       4854 non-null   object \n",
      " 9   Vendor        4854 non-null   object \n",
      " 10  FP16          536 non-null    float64\n",
      " 11  FP32          1948 non-null   float64\n",
      " 12  FP64          1306 non-null   float64\n",
      "dtypes: float64(7), int64(1), object(5)\n",
      "memory usage: 493.1+ KB\n"
     ]
    }
   ],
   "source": [
    "df_w = df.rename(columns= {\n",
    "    'Release Date': 'Date',\n",
    "    'Process Size (nm)' : 'Process_Size',\n",
    "    'TDP (W)':'TDP',\n",
    "    'Die Size (mm^2)':'Die_Size',\n",
    "    'Transistors (million)':'Transistors',\n",
    "    'Freq (MHz)':'Frequency',\n",
    "    'FP16 GFLOPS':'FP16',\n",
    "    'FP32 GFLOPS':'FP32',\n",
    "    'FP64 GFLOPS':'FP64'\n",
    "})\n",
    "df_w.info()\n",
    "df_m = df_w.copy()"
   ]
  },
  {
   "cell_type": "markdown",
   "metadata": {},
   "source": [
    "## Determining <b>Distinct</b> values"
   ]
  },
  {
   "cell_type": "code",
   "execution_count": 156,
   "metadata": {},
   "outputs": [
    {
     "data": {
      "text/plain": [
       "array(['AMD Athlon 64 3500+', 'AMD Athlon 200GE', 'Intel Core i5-1145G7',\n",
       "       ..., 'NVIDIA GeForce FX Go5100', 'NVIDIA Quadro 3000M',\n",
       "       'NVIDIA GeForce 9300 SE'], dtype=object)"
      ]
     },
     "execution_count": 156,
     "metadata": {},
     "output_type": "execute_result"
    }
   ],
   "source": [
    "df_w['Product'].unique()"
   ]
  },
  {
   "cell_type": "code",
   "execution_count": 157,
   "metadata": {},
   "outputs": [
    {
     "data": {
      "text/plain": [
       "4278"
      ]
     },
     "execution_count": 157,
     "metadata": {},
     "output_type": "execute_result"
    }
   ],
   "source": [
    "df_w['Product'].nunique()"
   ]
  },
  {
   "cell_type": "code",
   "execution_count": 158,
   "metadata": {},
   "outputs": [
    {
     "data": {
      "text/plain": [
       "array(['CPU', 'GPU'], dtype=object)"
      ]
     },
     "execution_count": 158,
     "metadata": {},
     "output_type": "execute_result"
    }
   ],
   "source": [
    "df_w['Type'].unique()"
   ]
  },
  {
   "cell_type": "code",
   "execution_count": 159,
   "metadata": {},
   "outputs": [
    {
     "data": {
      "text/plain": [
       "2"
      ]
     },
     "execution_count": 159,
     "metadata": {},
     "output_type": "execute_result"
    }
   ],
   "source": [
    "df_w['Type'].nunique()"
   ]
  },
  {
   "cell_type": "code",
   "execution_count": 164,
   "metadata": {},
   "outputs": [
    {
     "data": {
      "text/plain": [
       "array(['Unknown', 'Intel', 'GF', 'TSMC', 'UMC', 'Samsung', 'Renesas',\n",
       "       'Sony', 'NEC', 'IBM'], dtype=object)"
      ]
     },
     "execution_count": 164,
     "metadata": {},
     "output_type": "execute_result"
    }
   ],
   "source": [
    "df_w['Foundry'].unique()"
   ]
  },
  {
   "cell_type": "code",
   "execution_count": 165,
   "metadata": {},
   "outputs": [
    {
     "data": {
      "text/plain": [
       "10"
      ]
     },
     "execution_count": 165,
     "metadata": {},
     "output_type": "execute_result"
    }
   ],
   "source": [
    "df_w['Foundry'].nunique()"
   ]
  },
  {
   "cell_type": "code",
   "execution_count": 160,
   "metadata": {},
   "outputs": [
    {
     "data": {
      "text/plain": [
       "array(['AMD', 'Intel', 'Other', 'NVIDIA', 'ATI'], dtype=object)"
      ]
     },
     "execution_count": 160,
     "metadata": {},
     "output_type": "execute_result"
    }
   ],
   "source": [
    "df_w['Vendor'].unique()"
   ]
  },
  {
   "cell_type": "code",
   "execution_count": 161,
   "metadata": {},
   "outputs": [
    {
     "data": {
      "text/plain": [
       "5"
      ]
     },
     "execution_count": 161,
     "metadata": {},
     "output_type": "execute_result"
    }
   ],
   "source": [
    "df_w['Vendor'].nunique()"
   ]
  },
  {
   "cell_type": "markdown",
   "metadata": {},
   "source": [
    "## Data Cleaning - Dropping NaN"
   ]
  },
  {
   "cell_type": "markdown",
   "metadata": {},
   "source": [
    "Determine the <b>count of NaN</b> <i>(Not a Number)</i> values"
   ]
  },
  {
   "cell_type": "code",
   "execution_count": 166,
   "metadata": {},
   "outputs": [
    {
     "data": {
      "text/plain": [
       "Product            0\n",
       "Type               0\n",
       "Date               0\n",
       "Process_Size       9\n",
       "TDP              626\n",
       "Die_Size         715\n",
       "Transistors      711\n",
       "Frequency          0\n",
       "Foundry            0\n",
       "Vendor             0\n",
       "FP16            4318\n",
       "FP32            2906\n",
       "FP64            3548\n",
       "dtype: int64"
      ]
     },
     "execution_count": 166,
     "metadata": {},
     "output_type": "execute_result"
    }
   ],
   "source": [
    "df_w.isna().sum()"
   ]
  },
  {
   "cell_type": "code",
   "execution_count": 167,
   "metadata": {},
   "outputs": [
    {
     "data": {
      "text/plain": [
       "Product            0\n",
       "Type               0\n",
       "Date               0\n",
       "Process_Size       0\n",
       "TDP              623\n",
       "Die_Size         715\n",
       "Transistors      708\n",
       "Frequency          0\n",
       "Foundry            0\n",
       "Vendor             0\n",
       "FP16            4309\n",
       "FP32            2901\n",
       "FP64            3541\n",
       "dtype: int64"
      ]
     },
     "execution_count": 167,
     "metadata": {},
     "output_type": "execute_result"
    }
   ],
   "source": [
    "# Cleaning Process Size\n",
    "df_w = df_w.dropna(subset=['Process_Size'])\n",
    "df_w.isna().sum()"
   ]
  },
  {
   "cell_type": "code",
   "execution_count": 168,
   "metadata": {},
   "outputs": [
    {
     "data": {
      "text/plain": [
       "Product            0\n",
       "Type               0\n",
       "Date               0\n",
       "Process_Size       0\n",
       "TDP                0\n",
       "Die_Size         660\n",
       "Transistors      668\n",
       "Frequency          0\n",
       "Foundry            0\n",
       "Vendor             0\n",
       "FP16            3717\n",
       "FP32            2481\n",
       "FP64            3047\n",
       "dtype: int64"
      ]
     },
     "execution_count": 168,
     "metadata": {},
     "output_type": "execute_result"
    }
   ],
   "source": [
    "# Cleaning TDP\n",
    "df_w = df_w.dropna(subset=['TDP'])\n",
    "df_w.isna().sum()"
   ]
  },
  {
   "cell_type": "code",
   "execution_count": 169,
   "metadata": {},
   "outputs": [
    {
     "data": {
      "text/plain": [
       "Product            0\n",
       "Type               0\n",
       "Date               0\n",
       "Process_Size       0\n",
       "TDP                0\n",
       "Die_Size           0\n",
       "Transistors      140\n",
       "Frequency          0\n",
       "Foundry            0\n",
       "Vendor             0\n",
       "FP16            3113\n",
       "FP32            1930\n",
       "FP64            2489\n",
       "dtype: int64"
      ]
     },
     "execution_count": 169,
     "metadata": {},
     "output_type": "execute_result"
    }
   ],
   "source": [
    "# Cleaning Die Size\n",
    "df_w = df_w.dropna(subset=['Die_Size'])\n",
    "df_w.isna().sum()"
   ]
  },
  {
   "cell_type": "code",
   "execution_count": 170,
   "metadata": {},
   "outputs": [
    {
     "data": {
      "text/plain": [
       "Product            0\n",
       "Type               0\n",
       "Date               0\n",
       "Process_Size       0\n",
       "TDP                0\n",
       "Die_Size           0\n",
       "Transistors        0\n",
       "Frequency          0\n",
       "Foundry            0\n",
       "Vendor             0\n",
       "FP16            2992\n",
       "FP32            1812\n",
       "FP64            2369\n",
       "dtype: int64"
      ]
     },
     "execution_count": 170,
     "metadata": {},
     "output_type": "execute_result"
    }
   ],
   "source": [
    "# Cleaning Transistors\n",
    "df_w = df_w.dropna(subset=['Transistors'])\n",
    "df_w.isna().sum()"
   ]
  },
  {
   "cell_type": "code",
   "execution_count": 171,
   "metadata": {},
   "outputs": [
    {
     "data": {
      "text/plain": [
       "Product            0\n",
       "Type               0\n",
       "Date               0\n",
       "Process_Size       0\n",
       "TDP                0\n",
       "Die_Size           0\n",
       "Transistors        0\n",
       "Frequency          0\n",
       "Foundry            0\n",
       "Vendor             0\n",
       "FP16            2992\n",
       "FP32            1812\n",
       "FP64            2369\n",
       "dtype: int64"
      ]
     },
     "execution_count": 171,
     "metadata": {},
     "output_type": "execute_result"
    }
   ],
   "source": [
    "df_w.isna().sum()"
   ]
  },
  {
   "cell_type": "markdown",
   "metadata": {},
   "source": [
    "## Data Cleaning - Replacing NaN with Mean"
   ]
  },
  {
   "cell_type": "markdown",
   "metadata": {},
   "source": [
    "Make a copy of <b>df_w</b>"
   ]
  },
  {
   "cell_type": "code",
   "execution_count": 211,
   "metadata": {},
   "outputs": [
    {
     "name": "stdout",
     "output_type": "stream",
     "text": [
      "<class 'pandas.core.frame.DataFrame'>\n",
      "RangeIndex: 4854 entries, 0 to 4853\n",
      "Data columns (total 13 columns):\n",
      " #   Column        Non-Null Count  Dtype  \n",
      "---  ------        --------------  -----  \n",
      " 0   Product       4854 non-null   object \n",
      " 1   Type          4854 non-null   object \n",
      " 2   Date          4854 non-null   object \n",
      " 3   Process_Size  4845 non-null   float64\n",
      " 4   TDP           4228 non-null   float64\n",
      " 5   Die_Size      4139 non-null   float64\n",
      " 6   Transistors   4143 non-null   float64\n",
      " 7   Frequency     4854 non-null   int64  \n",
      " 8   Foundry       4854 non-null   object \n",
      " 9   Vendor        4854 non-null   object \n",
      " 10  FP16          536 non-null    float64\n",
      " 11  FP32          1948 non-null   float64\n",
      " 12  FP64          1306 non-null   float64\n",
      "dtypes: float64(7), int64(1), object(5)\n",
      "memory usage: 493.1+ KB\n"
     ]
    }
   ],
   "source": [
    "df_m.info()"
   ]
  },
  {
   "cell_type": "code",
   "execution_count": 212,
   "metadata": {},
   "outputs": [
    {
     "name": "stdout",
     "output_type": "stream",
     "text": [
      "55.10959752321981\n"
     ]
    }
   ],
   "source": [
    "# Cleaning Proccess_Size with mean\n",
    "procSize_mean = df_w['Process_Size'].mean()\n",
    "print(procSize_mean)\n",
    "df_m['Process_Size'] = df_m['Process_Size'].fillna(procSize_mean)"
   ]
  },
  {
   "cell_type": "code",
   "execution_count": 213,
   "metadata": {},
   "outputs": [
    {
     "name": "stdout",
     "output_type": "stream",
     "text": [
      "81.35998107852413\n"
     ]
    }
   ],
   "source": [
    "# Cleaning TDP with mean\n",
    "tdp_mean = df_w['TDP'].mean()\n",
    "print(tdp_mean)\n",
    "df_m['TDP'] = df_m['TDP'].fillna(tdp_mean)"
   ]
  },
  {
   "cell_type": "code",
   "execution_count": 214,
   "metadata": {},
   "outputs": [
    {
     "name": "stdout",
     "output_type": "stream",
     "text": [
      "188.4404445518241\n"
     ]
    }
   ],
   "source": [
    "# Cleaning Die_Size with mean\n",
    "dieSize_mean = df_w['Die_Size'].mean()\n",
    "print(dieSize_mean)\n",
    "df_m['Die_Size'] = df_m['Die_Size'].fillna(dieSize_mean)"
   ]
  },
  {
   "cell_type": "code",
   "execution_count": 215,
   "metadata": {},
   "outputs": [
    {
     "name": "stdout",
     "output_type": "stream",
     "text": [
      "1929.9222785421193\n"
     ]
    }
   ],
   "source": [
    "# Cleaning Transistors with mean\n",
    "transistor_mean = df_w['Transistors'].mean()\n",
    "print(transistor_mean)\n",
    "df_m['Transistors'] = df_m['Transistors'].fillna(transistor_mean)"
   ]
  },
  {
   "cell_type": "code",
   "execution_count": 216,
   "metadata": {},
   "outputs": [
    {
     "data": {
      "text/plain": [
       "Product            0\n",
       "Type               0\n",
       "Date               0\n",
       "Process_Size       0\n",
       "TDP                0\n",
       "Die_Size           0\n",
       "Transistors        0\n",
       "Frequency          0\n",
       "Foundry            0\n",
       "Vendor             0\n",
       "FP16            4318\n",
       "FP32            2906\n",
       "FP64            3548\n",
       "dtype: int64"
      ]
     },
     "execution_count": 216,
     "metadata": {},
     "output_type": "execute_result"
    }
   ],
   "source": [
    "df_m.isna().sum()"
   ]
  },
  {
   "cell_type": "code",
   "execution_count": 217,
   "metadata": {},
   "outputs": [
    {
     "name": "stdout",
     "output_type": "stream",
     "text": [
      "<class 'pandas.core.frame.DataFrame'>\n",
      "RangeIndex: 4854 entries, 0 to 4853\n",
      "Data columns (total 13 columns):\n",
      " #   Column        Non-Null Count  Dtype  \n",
      "---  ------        --------------  -----  \n",
      " 0   Product       4854 non-null   object \n",
      " 1   Type          4854 non-null   object \n",
      " 2   Date          4854 non-null   object \n",
      " 3   Process_Size  4854 non-null   float64\n",
      " 4   TDP           4854 non-null   float64\n",
      " 5   Die_Size      4854 non-null   float64\n",
      " 6   Transistors   4854 non-null   float64\n",
      " 7   Frequency     4854 non-null   int64  \n",
      " 8   Foundry       4854 non-null   object \n",
      " 9   Vendor        4854 non-null   object \n",
      " 10  FP16          536 non-null    float64\n",
      " 11  FP32          1948 non-null   float64\n",
      " 12  FP64          1306 non-null   float64\n",
      "dtypes: float64(7), int64(1), object(5)\n",
      "memory usage: 493.1+ KB\n"
     ]
    }
   ],
   "source": [
    "df_m.info()"
   ]
  },
  {
   "cell_type": "code",
   "execution_count": 199,
   "metadata": {},
   "outputs": [
    {
     "data": {
      "text/html": [
       "<div>\n",
       "<style scoped>\n",
       "    .dataframe tbody tr th:only-of-type {\n",
       "        vertical-align: middle;\n",
       "    }\n",
       "\n",
       "    .dataframe tbody tr th {\n",
       "        vertical-align: top;\n",
       "    }\n",
       "\n",
       "    .dataframe thead th {\n",
       "        text-align: right;\n",
       "    }\n",
       "</style>\n",
       "<table border=\"1\" class=\"dataframe\">\n",
       "  <thead>\n",
       "    <tr style=\"text-align: right;\">\n",
       "      <th></th>\n",
       "      <th>Process_Size</th>\n",
       "      <th>TDP</th>\n",
       "      <th>Die_Size</th>\n",
       "      <th>Transistors</th>\n",
       "      <th>Frequency</th>\n",
       "      <th>FP16</th>\n",
       "      <th>FP32</th>\n",
       "      <th>FP64</th>\n",
       "    </tr>\n",
       "  </thead>\n",
       "  <tbody>\n",
       "    <tr>\n",
       "      <th>count</th>\n",
       "      <td>4845.000000</td>\n",
       "      <td>4228.000000</td>\n",
       "      <td>4139.000000</td>\n",
       "      <td>4143.000000</td>\n",
       "      <td>4854.000000</td>\n",
       "      <td>536.000000</td>\n",
       "      <td>1948.000000</td>\n",
       "      <td>1306.000000</td>\n",
       "    </tr>\n",
       "    <tr>\n",
       "      <th>mean</th>\n",
       "      <td>55.109598</td>\n",
       "      <td>81.359981</td>\n",
       "      <td>188.440445</td>\n",
       "      <td>1929.922279</td>\n",
       "      <td>1484.406057</td>\n",
       "      <td>8397.459851</td>\n",
       "      <td>2134.756653</td>\n",
       "      <td>363.670511</td>\n",
       "    </tr>\n",
       "    <tr>\n",
       "      <th>std</th>\n",
       "      <td>44.998676</td>\n",
       "      <td>76.807808</td>\n",
       "      <td>126.189383</td>\n",
       "      <td>4044.891098</td>\n",
       "      <td>1066.701523</td>\n",
       "      <td>13799.551131</td>\n",
       "      <td>3898.431487</td>\n",
       "      <td>1145.931856</td>\n",
       "    </tr>\n",
       "    <tr>\n",
       "      <th>min</th>\n",
       "      <td>0.000000</td>\n",
       "      <td>1.000000</td>\n",
       "      <td>1.000000</td>\n",
       "      <td>8.000000</td>\n",
       "      <td>100.000000</td>\n",
       "      <td>10.020000</td>\n",
       "      <td>12.800000</td>\n",
       "      <td>3.600000</td>\n",
       "    </tr>\n",
       "    <tr>\n",
       "      <th>25%</th>\n",
       "      <td>22.000000</td>\n",
       "      <td>33.000000</td>\n",
       "      <td>104.000000</td>\n",
       "      <td>154.000000</td>\n",
       "      <td>590.000000</td>\n",
       "      <td>768.800000</td>\n",
       "      <td>257.300000</td>\n",
       "      <td>38.295000</td>\n",
       "    </tr>\n",
       "    <tr>\n",
       "      <th>50%</th>\n",
       "      <td>40.000000</td>\n",
       "      <td>65.000000</td>\n",
       "      <td>148.000000</td>\n",
       "      <td>624.000000</td>\n",
       "      <td>1073.500000</td>\n",
       "      <td>2965.500000</td>\n",
       "      <td>696.000000</td>\n",
       "      <td>89.280000</td>\n",
       "    </tr>\n",
       "    <tr>\n",
       "      <th>75%</th>\n",
       "      <td>90.000000</td>\n",
       "      <td>100.000000</td>\n",
       "      <td>239.000000</td>\n",
       "      <td>1550.000000</td>\n",
       "      <td>2400.000000</td>\n",
       "      <td>10600.000000</td>\n",
       "      <td>2116.750000</td>\n",
       "      <td>220.000000</td>\n",
       "    </tr>\n",
       "    <tr>\n",
       "      <th>max</th>\n",
       "      <td>250.000000</td>\n",
       "      <td>900.000000</td>\n",
       "      <td>826.000000</td>\n",
       "      <td>54200.000000</td>\n",
       "      <td>4700.000000</td>\n",
       "      <td>184600.000000</td>\n",
       "      <td>40000.000000</td>\n",
       "      <td>11540.000000</td>\n",
       "    </tr>\n",
       "  </tbody>\n",
       "</table>\n",
       "</div>"
      ],
      "text/plain": [
       "       Process_Size          TDP     Die_Size   Transistors    Frequency  \\\n",
       "count   4845.000000  4228.000000  4139.000000   4143.000000  4854.000000   \n",
       "mean      55.109598    81.359981   188.440445   1929.922279  1484.406057   \n",
       "std       44.998676    76.807808   126.189383   4044.891098  1066.701523   \n",
       "min        0.000000     1.000000     1.000000      8.000000   100.000000   \n",
       "25%       22.000000    33.000000   104.000000    154.000000   590.000000   \n",
       "50%       40.000000    65.000000   148.000000    624.000000  1073.500000   \n",
       "75%       90.000000   100.000000   239.000000   1550.000000  2400.000000   \n",
       "max      250.000000   900.000000   826.000000  54200.000000  4700.000000   \n",
       "\n",
       "                FP16          FP32          FP64  \n",
       "count     536.000000   1948.000000   1306.000000  \n",
       "mean     8397.459851   2134.756653    363.670511  \n",
       "std     13799.551131   3898.431487   1145.931856  \n",
       "min        10.020000     12.800000      3.600000  \n",
       "25%       768.800000    257.300000     38.295000  \n",
       "50%      2965.500000    696.000000     89.280000  \n",
       "75%     10600.000000   2116.750000    220.000000  \n",
       "max    184600.000000  40000.000000  11540.000000  "
      ]
     },
     "execution_count": 199,
     "metadata": {},
     "output_type": "execute_result"
    }
   ],
   "source": [
    "df_m.describe()"
   ]
  },
  {
   "cell_type": "markdown",
   "metadata": {},
   "source": [
    "## Lambda Function"
   ]
  },
  {
   "cell_type": "markdown",
   "metadata": {},
   "source": [
    "A <b>lambda function</b> in Python is a small, anonymous function defined using the <b>lambda</b> keyword. It is also known as an inline function or anonymous function because it doesn't require a formal name (unlike functions defined with def). Lambda functions are typically used for short, simple operations that can be written in a single line.\n"
   ]
  },
  {
   "cell_type": "markdown",
   "metadata": {},
   "source": [
    "Syntax:\n",
    "<b>lambda</b> arguments: expression"
   ]
  },
  {
   "cell_type": "code",
   "execution_count": 130,
   "metadata": {},
   "outputs": [
    {
     "data": {
      "text/plain": [
       "[2, 4, 6, 8, 10]"
      ]
     },
     "execution_count": 130,
     "metadata": {},
     "output_type": "execute_result"
    }
   ],
   "source": [
    "numbers = [1,2,3,4,5,6,7,8,9,10]\n",
    "\n",
    "def even(n):\n",
    "    e = []\n",
    "    for i in n:\n",
    "        if i%2==0:\n",
    "            e.append(i)\n",
    "    return e\n",
    "\n",
    "even(numbers)"
   ]
  },
  {
   "cell_type": "code",
   "execution_count": 182,
   "metadata": {},
   "outputs": [
    {
     "data": {
      "text/plain": [
       "[2, 4, 6, 8, 10]"
      ]
     },
     "execution_count": 182,
     "metadata": {},
     "output_type": "execute_result"
    }
   ],
   "source": [
    "even = filter(lambda n : n%2==0 , numbers)\n",
    "list(even)"
   ]
  },
  {
   "cell_type": "markdown",
   "metadata": {},
   "source": [
    "Use <b>lambda</b> function to replace NaN values with mean of each column"
   ]
  },
  {
   "cell_type": "code",
   "execution_count": 193,
   "metadata": {},
   "outputs": [
    {
     "name": "stdout",
     "output_type": "stream",
     "text": [
      "<class 'pandas.core.frame.DataFrame'>\n",
      "RangeIndex: 4854 entries, 0 to 4853\n",
      "Data columns (total 13 columns):\n",
      " #   Column        Non-Null Count  Dtype  \n",
      "---  ------        --------------  -----  \n",
      " 0   Product       4854 non-null   object \n",
      " 1   Type          4854 non-null   object \n",
      " 2   Date          4854 non-null   object \n",
      " 3   Process_Size  4845 non-null   float64\n",
      " 4   TDP           4228 non-null   float64\n",
      " 5   Die_Size      4139 non-null   float64\n",
      " 6   Transistors   4143 non-null   float64\n",
      " 7   Frequency     4854 non-null   int64  \n",
      " 8   Foundry       4854 non-null   object \n",
      " 9   Vendor        4854 non-null   object \n",
      " 10  FP16          536 non-null    float64\n",
      " 11  FP32          1948 non-null   float64\n",
      " 12  FP64          1306 non-null   float64\n",
      "dtypes: float64(7), int64(1), object(5)\n",
      "memory usage: 493.1+ KB\n"
     ]
    }
   ],
   "source": [
    "df_l = df_w.copy()\n",
    "df_l.info()"
   ]
  },
  {
   "cell_type": "code",
   "execution_count": 194,
   "metadata": {},
   "outputs": [
    {
     "data": {
      "text/plain": [
       "Product            0\n",
       "Type               0\n",
       "Date               0\n",
       "Process_Size       9\n",
       "TDP              626\n",
       "Die_Size         715\n",
       "Transistors      711\n",
       "Frequency          0\n",
       "Foundry            0\n",
       "Vendor             0\n",
       "FP16            4318\n",
       "FP32            2906\n",
       "FP64            3548\n",
       "dtype: int64"
      ]
     },
     "execution_count": 194,
     "metadata": {},
     "output_type": "execute_result"
    }
   ],
   "source": [
    "df_l.isna().sum()"
   ]
  },
  {
   "cell_type": "code",
   "execution_count": 195,
   "metadata": {},
   "outputs": [
    {
     "name": "stdout",
     "output_type": "stream",
     "text": [
      "<class 'pandas.core.frame.DataFrame'>\n",
      "RangeIndex: 4854 entries, 0 to 4853\n",
      "Data columns (total 13 columns):\n",
      " #   Column        Non-Null Count  Dtype  \n",
      "---  ------        --------------  -----  \n",
      " 0   Product       4854 non-null   object \n",
      " 1   Type          4854 non-null   object \n",
      " 2   Date          4854 non-null   object \n",
      " 3   Process_Size  4854 non-null   float64\n",
      " 4   TDP           4854 non-null   float64\n",
      " 5   Die_Size      4854 non-null   float64\n",
      " 6   Transistors   4854 non-null   float64\n",
      " 7   Frequency     4854 non-null   int64  \n",
      " 8   Foundry       4854 non-null   object \n",
      " 9   Vendor        4854 non-null   object \n",
      " 10  FP16          536 non-null    float64\n",
      " 11  FP32          1948 non-null   float64\n",
      " 12  FP64          1306 non-null   float64\n",
      "dtypes: float64(7), int64(1), object(5)\n",
      "memory usage: 493.1+ KB\n"
     ]
    }
   ],
   "source": [
    "n_columns = ['Process_Size', 'TDP', 'Die_Size', 'Transistors']\n",
    "df_l[n_columns] = df_l[n_columns].apply(lambda n:n.fillna(n.mean()))\n",
    "df_l.info()"
   ]
  },
  {
   "cell_type": "code",
   "execution_count": 196,
   "metadata": {},
   "outputs": [
    {
     "data": {
      "text/plain": [
       "Product            0\n",
       "Type               0\n",
       "Date               0\n",
       "Process_Size       0\n",
       "TDP                0\n",
       "Die_Size           0\n",
       "Transistors        0\n",
       "Frequency          0\n",
       "Foundry            0\n",
       "Vendor             0\n",
       "FP16            4318\n",
       "FP32            2906\n",
       "FP64            3548\n",
       "dtype: int64"
      ]
     },
     "execution_count": 196,
     "metadata": {},
     "output_type": "execute_result"
    }
   ],
   "source": [
    "df_l.isna().sum()"
   ]
  },
  {
   "cell_type": "code",
   "execution_count": 197,
   "metadata": {},
   "outputs": [
    {
     "data": {
      "text/html": [
       "<div>\n",
       "<style scoped>\n",
       "    .dataframe tbody tr th:only-of-type {\n",
       "        vertical-align: middle;\n",
       "    }\n",
       "\n",
       "    .dataframe tbody tr th {\n",
       "        vertical-align: top;\n",
       "    }\n",
       "\n",
       "    .dataframe thead th {\n",
       "        text-align: right;\n",
       "    }\n",
       "</style>\n",
       "<table border=\"1\" class=\"dataframe\">\n",
       "  <thead>\n",
       "    <tr style=\"text-align: right;\">\n",
       "      <th></th>\n",
       "      <th>Process_Size</th>\n",
       "      <th>TDP</th>\n",
       "      <th>Die_Size</th>\n",
       "      <th>Transistors</th>\n",
       "      <th>Frequency</th>\n",
       "      <th>FP16</th>\n",
       "      <th>FP32</th>\n",
       "      <th>FP64</th>\n",
       "    </tr>\n",
       "  </thead>\n",
       "  <tbody>\n",
       "    <tr>\n",
       "      <th>count</th>\n",
       "      <td>4854.000000</td>\n",
       "      <td>4854.000000</td>\n",
       "      <td>4854.000000</td>\n",
       "      <td>4854.000000</td>\n",
       "      <td>4854.000000</td>\n",
       "      <td>536.000000</td>\n",
       "      <td>1948.000000</td>\n",
       "      <td>1306.000000</td>\n",
       "    </tr>\n",
       "    <tr>\n",
       "      <th>mean</th>\n",
       "      <td>55.109598</td>\n",
       "      <td>81.359981</td>\n",
       "      <td>188.440445</td>\n",
       "      <td>1929.922279</td>\n",
       "      <td>1484.406057</td>\n",
       "      <td>8397.459851</td>\n",
       "      <td>2134.756653</td>\n",
       "      <td>363.670511</td>\n",
       "    </tr>\n",
       "    <tr>\n",
       "      <th>std</th>\n",
       "      <td>44.956931</td>\n",
       "      <td>71.683029</td>\n",
       "      <td>116.523337</td>\n",
       "      <td>3736.859205</td>\n",
       "      <td>1066.701523</td>\n",
       "      <td>13799.551131</td>\n",
       "      <td>3898.431487</td>\n",
       "      <td>1145.931856</td>\n",
       "    </tr>\n",
       "    <tr>\n",
       "      <th>min</th>\n",
       "      <td>0.000000</td>\n",
       "      <td>1.000000</td>\n",
       "      <td>1.000000</td>\n",
       "      <td>8.000000</td>\n",
       "      <td>100.000000</td>\n",
       "      <td>10.020000</td>\n",
       "      <td>12.800000</td>\n",
       "      <td>3.600000</td>\n",
       "    </tr>\n",
       "    <tr>\n",
       "      <th>25%</th>\n",
       "      <td>22.000000</td>\n",
       "      <td>35.000000</td>\n",
       "      <td>112.000000</td>\n",
       "      <td>180.000000</td>\n",
       "      <td>590.000000</td>\n",
       "      <td>768.800000</td>\n",
       "      <td>257.300000</td>\n",
       "      <td>38.295000</td>\n",
       "    </tr>\n",
       "    <tr>\n",
       "      <th>50%</th>\n",
       "      <td>40.000000</td>\n",
       "      <td>67.000000</td>\n",
       "      <td>177.000000</td>\n",
       "      <td>950.000000</td>\n",
       "      <td>1073.500000</td>\n",
       "      <td>2965.500000</td>\n",
       "      <td>696.000000</td>\n",
       "      <td>89.280000</td>\n",
       "    </tr>\n",
       "    <tr>\n",
       "      <th>75%</th>\n",
       "      <td>90.000000</td>\n",
       "      <td>95.000000</td>\n",
       "      <td>221.000000</td>\n",
       "      <td>1929.922279</td>\n",
       "      <td>2400.000000</td>\n",
       "      <td>10600.000000</td>\n",
       "      <td>2116.750000</td>\n",
       "      <td>220.000000</td>\n",
       "    </tr>\n",
       "    <tr>\n",
       "      <th>max</th>\n",
       "      <td>250.000000</td>\n",
       "      <td>900.000000</td>\n",
       "      <td>826.000000</td>\n",
       "      <td>54200.000000</td>\n",
       "      <td>4700.000000</td>\n",
       "      <td>184600.000000</td>\n",
       "      <td>40000.000000</td>\n",
       "      <td>11540.000000</td>\n",
       "    </tr>\n",
       "  </tbody>\n",
       "</table>\n",
       "</div>"
      ],
      "text/plain": [
       "       Process_Size          TDP     Die_Size   Transistors    Frequency  \\\n",
       "count   4854.000000  4854.000000  4854.000000   4854.000000  4854.000000   \n",
       "mean      55.109598    81.359981   188.440445   1929.922279  1484.406057   \n",
       "std       44.956931    71.683029   116.523337   3736.859205  1066.701523   \n",
       "min        0.000000     1.000000     1.000000      8.000000   100.000000   \n",
       "25%       22.000000    35.000000   112.000000    180.000000   590.000000   \n",
       "50%       40.000000    67.000000   177.000000    950.000000  1073.500000   \n",
       "75%       90.000000    95.000000   221.000000   1929.922279  2400.000000   \n",
       "max      250.000000   900.000000   826.000000  54200.000000  4700.000000   \n",
       "\n",
       "                FP16          FP32          FP64  \n",
       "count     536.000000   1948.000000   1306.000000  \n",
       "mean     8397.459851   2134.756653    363.670511  \n",
       "std     13799.551131   3898.431487   1145.931856  \n",
       "min        10.020000     12.800000      3.600000  \n",
       "25%       768.800000    257.300000     38.295000  \n",
       "50%      2965.500000    696.000000     89.280000  \n",
       "75%     10600.000000   2116.750000    220.000000  \n",
       "max    184600.000000  40000.000000  11540.000000  "
      ]
     },
     "execution_count": 197,
     "metadata": {},
     "output_type": "execute_result"
    }
   ],
   "source": [
    "df_l.describe()"
   ]
  },
  {
   "cell_type": "markdown",
   "metadata": {},
   "source": [
    "## <b>Saving</b> the Cleaned Dataset"
   ]
  },
  {
   "cell_type": "code",
   "execution_count": 198,
   "metadata": {},
   "outputs": [],
   "source": [
    "df_l.to_csv(r\"..\\.raw\\chip-dataset-cleaned.csv\", index=False)"
   ]
  }
 ],
 "metadata": {
  "kernelspec": {
   "display_name": "Python 3",
   "language": "python",
   "name": "python3"
  },
  "language_info": {
   "codemirror_mode": {
    "name": "ipython",
    "version": 3
   },
   "file_extension": ".py",
   "mimetype": "text/x-python",
   "name": "python",
   "nbconvert_exporter": "python",
   "pygments_lexer": "ipython3",
   "version": "3.13.1"
  }
 },
 "nbformat": 4,
 "nbformat_minor": 2
}
